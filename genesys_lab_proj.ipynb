{
  "nbformat": 4,
  "nbformat_minor": 0,
  "metadata": {
    "colab": {
      "provenance": []
    },
    "kernelspec": {
      "name": "python3",
      "display_name": "Python 3"
    },
    "language_info": {
      "name": "python"
    }
  },
  "cells": [
    {
      "cell_type": "code",
      "source": [
        "import os\n",
        "import textwrap\n",
        "from transformers import AutoTokenizer, AutoModelForSeq2SeqLM\n",
        "from langchain.text_splitter import RecursiveCharacterTextSplitter\n",
        "from langchain.vectorstores import FAISS\n",
        "from langchain.embeddings import HuggingFaceEmbeddings\n",
        "from PyPDF2 import PdfReader\n",
        "\n",
        "# 1. Document Ingestion: Load PDF, TXT, or MD\n",
        "def load_text(file_path):\n",
        "    if file_path.endswith(\".pdf\"):\n",
        "        reader = PdfReader(file_path)\n",
        "        return \"\\n\".join(page.extract_text() for page in reader.pages if page.extract_text())\n",
        "    elif file_path.endswith(\".txt\") or file_path.endswith(\".md\"):\n",
        "        with open(file_path, \"r\", encoding=\"utf-8\") as f:\n",
        "            return f.read()\n",
        "    else:\n",
        "        raise ValueError(\"Unsupported file format. Use PDF, TXT, or Markdown.\")\n",
        "\n",
        "# 2. Chunking into semantic segments\n",
        "def semantic_chunking(text):\n",
        "    splitter = RecursiveCharacterTextSplitter(chunk_size=512, chunk_overlap=100)\n",
        "    return splitter.split_text(text)\n",
        "\n",
        "# 3. Embedding + Vector Store (FAISS)\n",
        "def build_vector_index(chunks):\n",
        "    embeddings = HuggingFaceEmbeddings(model_name=\"sentence-transformers/all-MiniLM-L6-v2\")\n",
        "    vector_store = FAISS.from_texts(chunks, embedding=embeddings)\n",
        "    return vector_store\n",
        "\n",
        "# 4. Summary Generation (BART, Free model)\n",
        "def summarize_with_bart(context):\n",
        "    model_id = \"facebook/bart-large-cnn\"\n",
        "    tokenizer = AutoTokenizer.from_pretrained(model_id)\n",
        "    model = AutoModelForSeq2SeqLM.from_pretrained(model_id)\n",
        "\n",
        "    inputs = tokenizer(context, return_tensors=\"pt\", truncation=True, max_length=1024)\n",
        "    summary_ids = model.generate(inputs[\"input_ids\"], max_length=256, min_length=64, length_penalty=2.0, num_beams=4, early_stopping=True)\n",
        "    return tokenizer.decode(summary_ids[0], skip_special_tokens=True)\n",
        "\n",
        "# 5. Pretty Print Helper\n",
        "def print_wrapped(title, text, width=100):\n",
        "    print(f\"\\n {title}\\n\" + \"-\" * width)\n",
        "    wrapped = textwrap.fill(text, width=width)\n",
        "    print(wrapped)\n",
        "    print(\"-\" * width)\n",
        "\n",
        "# 6. Full RAG Flow\n",
        "def offline_rag_summary(file_path):\n",
        "    print(\" Loading document...\")\n",
        "    text = load_text(file_path)\n",
        "\n",
        "    print(\"✂️ Chunking into semantic blocks...\")\n",
        "    chunks = semantic_chunking(text)\n",
        "\n",
        "    print(\" Building FAISS vector index...\")\n",
        "    vector_store = build_vector_index(chunks)\n",
        "\n",
        "    print(\" Retrieving top relevant chunks...\")\n",
        "    retriever = vector_store.as_retriever(search_type=\"similarity\", k=5)\n",
        "    docs = retriever.get_relevant_documents(\"Summarize this document\")\n",
        "    context = \" \".join(doc.page_content for doc in docs)\n",
        "\n",
        "    print(\" Generating summary using BART (free)...\")\n",
        "    summary = summarize_with_bart(context)\n",
        "\n",
        "    print_wrapped(\"Retrieved Context\", context)\n",
        "    print_wrapped(\"Final Summary\", summary)\n",
        "\n",
        "# ▶️ Run\n",
        "offline_rag_summary(\"global_warming.pdf\")\n"
      ],
      "metadata": {
        "colab": {
          "base_uri": "https://localhost:8080/"
        },
        "id": "GXcmkYkvQE8n",
        "outputId": "32c0912e-c46e-4ab2-92cf-2525c0b553a2"
      },
      "execution_count": 19,
      "outputs": [
        {
          "output_type": "stream",
          "name": "stdout",
          "text": [
            " Loading document...\n",
            "✂️ Chunking into semantic blocks...\n",
            " Building FAISS vector index...\n",
            " Retrieving top relevant chunks...\n",
            " Generating summary using BART (free)...\n",
            "\n",
            " Retrieved Context\n",
            "----------------------------------------------------------------------------------------------------\n",
            "Review, 100(2), 52 -59. fully understand the implications of global warming or consider it a\n",
            "significant problem for the future. However, global  warming is already happening, and some of its\n",
            "devastating consequences are already being felt. It significantly impacts  biodiversity and disrupts\n",
            "ecological balance. Due to the dangerous effects of global warming, many strategies need to  be\n",
            "established. The report discusses global warming, outlines its causes and risks, and proposes\n",
            "solutions to this urgent driving it. The rapid increase in greenhouse gases is problematic, as it\n",
            "affects the environment faster than many living  organisms can a dapt. This changing and\n",
            "increasingly complex world presents significant challenges for all forms of life.   The report\n",
            "discussed here only scratches the surface of the complex field of science and engineering related to\n",
            "global  warming. It is a serious threat  that demands effective measures to address it. Global\n",
            "warming poses significant problems [34] Aitken, D. W. (2003). Transitioning to a renewable energy\n",
            "future. ISES White Paper.    [35] Canadell, J. G., & Raupach, M. R. (2008). Managing forests for\n",
            "climate change mitigation. science, 320(5882), 1456 - 1457.  https:\n",
            "//doi.org/10.1126/science.1155458   [36] Robinson, S. (2010). How to reduce carbon emissions:\n",
            "capture and store it. Time. com.   [37] International Energy Agency. (2009). Technology roadmap:\n",
            "Carbon capture and storage. OECD Publishing.\n",
            "----------------------------------------------------------------------------------------------------\n",
            "\n",
            " Final Summary\n",
            "----------------------------------------------------------------------------------------------------\n",
            "The report discusses global warming, outlines its causes and risks, and proposes solutions to this\n",
            "urgent driving it. The rapid increase in greenhouse gases is problematic, as it affects the\n",
            "environment faster than many living organisms. This changing and increasingly complex world presents\n",
            "significant challenges for all forms of life. It is a serious threat that demands effective measures\n",
            "to address it.\n",
            "----------------------------------------------------------------------------------------------------\n"
          ]
        }
      ]
    },
    {
      "cell_type": "code",
      "source": [
        "offline_rag_summary(\"illiteracy.txt\")"
      ],
      "metadata": {
        "colab": {
          "base_uri": "https://localhost:8080/"
        },
        "id": "oDXF454yStwK",
        "outputId": "6a000bc4-85ca-4d7d-88e1-b91946a7b7e3"
      },
      "execution_count": 20,
      "outputs": [
        {
          "output_type": "stream",
          "name": "stdout",
          "text": [
            " Loading document...\n",
            "✂️ Chunking into semantic blocks...\n",
            " Building FAISS vector index...\n",
            " Retrieving top relevant chunks...\n",
            " Generating summary using BART (free)...\n",
            "\n",
            " Retrieved Context\n",
            "----------------------------------------------------------------------------------------------------\n",
            "interpret a table about blood pressure, age, and physical activity; or compute and compare the cost\n",
            "per ounce of food items. that countries with lower levels of functional illiteracy among their adult\n",
            "populations tend to be those with the highest levels of scientific literacy among the lower stratum\n",
            "of young people nearing the end of their formal academic studies. This correspondence suggests that\n",
            "the capacity of schools to ensure students attain the functional literacy required to comprehend the\n",
            "basic texts and documents associated with competent citizenship contributes to a society's level of\n",
            "civic literacy.[3] The National Center for Education Statistics provides more detail.[10] Literacy\n",
            "is broken down into three parameters: prose, document, and quantitative literacy. Each parameter has\n",
            "four levels: below basic, basic, intermediate, and proficient. For prose literacy, for example, a\n",
            "below basic level of literacy means that a person can look at a short piece of text to get a small\n",
            "piece of uncomplicated information, while a person who is below basic in quantitative literacy would\n",
            "be able to do simple addition. while a person who is below basic in quantitative literacy would be\n",
            "able to do simple addition. In the US, 14% of the adult population is at the \"below basic\" level for\n",
            "prose literacy; 12% are at the \"below basic\" level for document literacy, and 22% are at that level\n",
            "for quantitative literacy. Only 13% of the population is proficient in each of these three\n",
            "areas—able to compare viewpoints in two editorials; interpret a table about blood pressure, age, and\n",
            "physical activity; or compute and compare the cost\n",
            "----------------------------------------------------------------------------------------------------\n",
            "\n",
            " Final Summary\n",
            "----------------------------------------------------------------------------------------------------\n",
            " Literacy is broken down into three parameters: prose, document, and quantitative literacy. Each\n",
            "parameter has four levels: below basic, basic, intermediate, and proficient. For prose literacy, for\n",
            "example, a person can look at a short piece of text to get a small piece of uncomplicated\n",
            "information. A person who is below basic in quantitative literacy would be able to do simple\n",
            "addition.\n",
            "----------------------------------------------------------------------------------------------------\n"
          ]
        }
      ]
    },
    {
      "cell_type": "code",
      "source": [
        "offline_rag_summary(\"future_of_ai.md\")"
      ],
      "metadata": {
        "colab": {
          "base_uri": "https://localhost:8080/"
        },
        "id": "C72FDrqZT9AZ",
        "outputId": "95fbfd97-400f-4fc5-fb15-e78d7b431d29"
      },
      "execution_count": 21,
      "outputs": [
        {
          "output_type": "stream",
          "name": "stdout",
          "text": [
            " Loading document...\n",
            "✂️ Chunking into semantic blocks...\n",
            " Building FAISS vector index...\n",
            " Retrieving top relevant chunks...\n",
            " Generating summary using BART (free)...\n",
            "\n",
            " Retrieved Context\n",
            "----------------------------------------------------------------------------------------------------\n",
            "## Conclusion  AI will undoubtedly shape the future of our society. However, it is essential to\n",
            "address its challenges proactively and ensure its development benefits all of humanity. ## Key\n",
            "Developments  - **Machine Learning & Deep Learning:** These have enabled computers to learn from\n",
            "data and make decisions with minimal human intervention. - **Natural Language Processing:** With\n",
            "advancements in NLP, machines can now understand, generate, and translate human languages more\n",
            "effectively. - **Computer Vision:** AI-powered systems can interpret visual inputs, aiding in facial\n",
            "recognition, medical imaging, and autonomous vehicles.  ## Ethical Considerations # The Future of\n",
            "Artificial Intelligence  Artificial Intelligence (AI) has rapidly evolved over the past decade,\n",
            "influencing multiple domains ranging from healthcare and finance to education and entertainment.  ##\n",
            "Key Developments ## Ethical Considerations  While AI presents numerous benefits, it also raises\n",
            "concerns:  - **Job Displacement:** Automation could reduce the need for human labor in some sectors.\n",
            "- **Bias and Fairness:** AI systems trained on biased data may produce unfair outcomes. -\n",
            "**Privacy:** AI systems that monitor user behavior pose privacy concerns.  ## Conclusion\n",
            "----------------------------------------------------------------------------------------------------\n",
            "\n",
            " Final Summary\n",
            "----------------------------------------------------------------------------------------------------\n",
            "Artificial Intelligence (AI) has rapidly evolved over the past decade, influencing multiple domains\n",
            "ranging from healthcare and finance to education and entertainment. While AI presents numerous\n",
            "benefits, it also raises concerns. It is essential to address its challenges proactively and ensure\n",
            "its development benefits all of humanity. The Future of Artificial Intelligence is published by\n",
            "Oxford University Press.\n",
            "----------------------------------------------------------------------------------------------------\n"
          ]
        }
      ]
    },
    {
      "cell_type": "code",
      "source": [],
      "metadata": {
        "id": "av0H13120XdE"
      },
      "execution_count": 18,
      "outputs": []
    }
  ]
}